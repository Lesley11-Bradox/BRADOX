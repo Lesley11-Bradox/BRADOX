{
  "nbformat": 4,
  "nbformat_minor": 0,
  "metadata": {
    "colab": {
      "provenance": [],
      "authorship_tag": "ABX9TyPVV/Xy2dNIzWZ9ENe8j2Kx",
      "include_colab_link": true
    },
    "kernelspec": {
      "name": "python3",
      "display_name": "Python 3"
    },
    "language_info": {
      "name": "python"
    }
  },
  "cells": [
    {
      "cell_type": "markdown",
      "metadata": {
        "id": "view-in-github",
        "colab_type": "text"
      },
      "source": [
        "<a href=\"https://colab.research.google.com/github/Lesley11-Bradox/BRADOX/blob/main/Untitled0.ipynb\" target=\"_parent\"><img src=\"https://colab.research.google.com/assets/colab-badge.svg\" alt=\"Open In Colab\"/></a>"
      ]
    },
    {
      "cell_type": "code",
      "execution_count": 1,
      "metadata": {
        "colab": {
          "base_uri": "https://localhost:8080/"
        },
        "id": "sHkTiw4iA8HJ",
        "outputId": "ca22bfdd-729f-4b28-9e1b-af2cf183d9bd"
      },
      "outputs": [
        {
          "output_type": "stream",
          "name": "stdout",
          "text": [
            "Hello, world!\n"
          ]
        }
      ],
      "source": [
        "print(\"Hello, world!\")"
      ]
    },
    {
      "cell_type": "code",
      "source": [
        "print(\"I love coding!\")"
      ],
      "metadata": {
        "colab": {
          "base_uri": "https://localhost:8080/"
        },
        "id": "8e_Wv0oaBG_N",
        "outputId": "2f2c19b9-bec6-45ea-e411-5a273f73126a"
      },
      "execution_count": 2,
      "outputs": [
        {
          "output_type": "stream",
          "name": "stdout",
          "text": [
            "I love coding!\n"
          ]
        }
      ]
    },
    {
      "cell_type": "code",
      "source": [
        "#print(1+2)"
      ],
      "metadata": {
        "id": "wiaqNBdxBVKc"
      },
      "execution_count": 3,
      "outputs": []
    },
    {
      "cell_type": "code",
      "source": [
        "#Create variables\n",
        "num_years = 4\n",
        "days_per_year = 365\n",
        "hours_per_day = 24\n",
        "mins_per_hour = 60\n",
        "secs_per_min = 60\n",
        "\n",
        "# Calculate number of seconds in four years\n",
        "total_secs = secs_per_min * mins_per_hour * hours_per_day * days_per_year * num_years\n",
        "print(total_secs)"
      ],
      "metadata": {
        "colab": {
          "base_uri": "https://localhost:8080/"
        },
        "id": "gWkOvtO7Bqld",
        "outputId": "2cfafc50-3f1f-41c6-c27a-5fb99e4c10eb"
      },
      "execution_count": 5,
      "outputs": [
        {
          "output_type": "stream",
          "name": "stdout",
          "text": [
            "126144000\n"
          ]
        }
      ]
    },
    {
      "cell_type": "code",
      "source": [
        "total=891\n",
        "survived=342\n",
        "minors=113\n",
        "survived_fraction=survived/total\n",
        "minors_fraction=minors/total\n",
        "print(\"The fraction of people survived is {survived_fraction}.\")\n",
        "print(\"The fraction of minors survived is {minors_fraction}.\")"
      ],
      "metadata": {
        "colab": {
          "base_uri": "https://localhost:8080/"
        },
        "id": "VUyyxUf2COpk",
        "outputId": "890aa53f-2af3-484e-9510-6d618f6f581a"
      },
      "execution_count": 8,
      "outputs": [
        {
          "output_type": "stream",
          "name": "stdout",
          "text": [
            "The fraction of people survived is {survived_fraction}.\n",
            "The fraction of minors survived is {minors_fraction}.\n"
          ]
        }
      ]
    }
  ]
}